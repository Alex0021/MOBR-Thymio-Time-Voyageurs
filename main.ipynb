{
 "cells": [
  {
   "cell_type": "markdown",
   "metadata": {},
   "source": [
    "Import librairies and packages"
   ]
  },
  {
   "cell_type": "code",
   "execution_count": null,
   "metadata": {},
   "outputs": [],
   "source": [
    "from tdmclient import ClientAsync, aw\n",
    "client = ClientAsync()\n",
    "node = await client.wait_for_node()\n",
    "await node.lock()\n",
    "\n",
    "import os\n",
    "import sys\n",
    "import numpy as np\n",
    "import math\n",
    "import matplotlib.pyplot as plt\n",
    "from IPython.display import display, clear_output\n",
    "import Vision.CamCalib as calib\n",
    "import Vision.EnvTracker as tracker\n",
    "import time\n",
    "import cv2\n",
    "\n",
    "sys.path.insert(0, os.path.join(os.getcwd(), 'sensors'))\n",
    "from local_occupancy import thymio_coords\n",
    "\n",
    "sys.path.insert(0, os.path.join(os.getcwd(), 'plot'))\n",
    "from plot import plot\n",
    "\n",
    "sys.path.insert(0, os.path.join(os.getcwd(), 'LocalNav'))\n",
    "sys.path.insert(0, os.path.join(os.getcwd(), 'GlobalNav'))\n",
    "from LocalNav import localNav\n",
    "from GlobalNav import GlobalNav"
   ]
  },
  {
   "cell_type": "markdown",
   "metadata": {},
   "source": [
    "Initialize components & objects"
   ]
  },
  {
   "cell_type": "code",
   "execution_count": null,
   "metadata": {},
   "outputs": [],
   "source": [
    "#Create a Client Object:\n",
    "client = ClientAsync()\n",
    "\n",
    "client.process_waiting_messages()\n",
    "\n",
    "# Parameters\n",
    "MAP_SIZE = (100, 100)  # In cm\n",
    "\n",
    "# Position\n",
    "abs_pos = [[20, 20, 0]] # absolute x,y,theta coordinates of the robot\n",
    "# Goal Position\n",
    "goal_position = [[80, 80]]\n",
    "\n",
    "# Initialize camCalib object to retrieve camera parameters\n",
    "cam_calib = calib.CamCalib(None, (16,9))\n",
    "cam_mat, dist_coefs, rvecs, tvecs = cam_calib.load_camera_params()\n",
    "wait_for_map = True\n",
    "quit = False\n",
    "run = True\n",
    "map_created = False\n",
    "\n",
    "# Initialize the environment tracker object to create global map and track thymio\n",
    "env_tracker = tracker.EnvTracker((70,70), cam_mat, dist_coefs)\n",
    "cv2.namedWindow(\"Thymio Tracking\", cv2.WINDOW_NORMAL)\n",
    "cv2.resizeWindow(\"Thymio Tracking\", 1920, 1080)\n",
    "cam_feed = cv2.VideoCapture(0)\n",
    "if not cam_feed.isOpened():\n",
    "    print(\"ERROR :: Could not open camera video feed!\")\n",
    "\n",
    "map_global = np.zeros((100,100))\n"
   ]
  },
  {
   "cell_type": "markdown",
   "metadata": {},
   "source": [
    "Main loop (run thymio)"
   ]
  },
  {
   "cell_type": "code",
   "execution_count": null,
   "metadata": {},
   "outputs": [],
   "source": [
    "%matplotlib qt\n",
    "# Open camera feed & initialize map\n",
    "while (wait_for_map):\n",
    "    frame = cam_feed.read()\n",
    "    img_markers = env_tracker.detectMarkers(frame)\n",
    "    map_detected, img_markers = env_tracker.detectMap(frame)\n",
    "    goal_detected, img_markers = env_tracker.detectGoal(img_markers)\n",
    "    if goal_detected:\n",
    "        goal_pose, _ = env_tracker.goalPose(frame)\n",
    "        text_goal = f'GOAL: {np.round(goal_pose, 1)}'\n",
    "    if map_detected:\n",
    "        img_markers = env_tracker.extractMapCornerPose(img_markers)\n",
    "        img_markers = cv2.putText(img_markers, \"MAP DETECTED\", (img_markers.shape[1] - 300, 100), cv2.FONT_HERSHEY_SIMPLEX, 1, [0,255,0], 2)\n",
    "    cv2.imshow(\"Thymio Tracking\",img_markers)\n",
    "    key = cv2.waitKey(1)\n",
    "    if key == ord('q'):\n",
    "        quit = True\n",
    "    elif key == ord(' '):\n",
    "        # Create map\n",
    "        if map_detected and goal_detected:\n",
    "            map_global = env_tracker.createMap(frame, bl_marker=0)\n",
    "            map_created = True\n",
    "            wait_for_map = False\n",
    "\n",
    "\n",
    "\n",
    "\n",
    "\n",
    "# Map is ready, run the thymio\n",
    "while run and not quit:\n",
    "    \n",
    "    aw(node.lock())\n",
    "    await node.wait_for_variables({\"prox.horizontal\"})\n",
    "    prox_horizontal = list(node.v.prox.horizontal)\n",
    "\n",
    "    map_global = localNav(abs_pos, goal_position, prox_horizontal, map_global)\n",
    "\n",
    "    # Plot\n",
    "    plot(abs_pos, thymio_coords, goal_position, map_global, abs_pos[0][2])\n",
    "    time.sleep(1)\n",
    "    clear_output(wait=True)  # Clear the previous plot"
   ]
  }
 ],
 "metadata": {
  "kernelspec": {
   "display_name": "mobile_robotics",
   "language": "python",
   "name": "python3"
  },
  "language_info": {
   "name": "python",
   "version": "3.9.18"
  }
 },
 "nbformat": 4,
 "nbformat_minor": 2
}
