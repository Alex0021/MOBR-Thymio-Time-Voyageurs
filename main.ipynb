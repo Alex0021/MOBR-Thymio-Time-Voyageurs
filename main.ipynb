{
 "cells": [
  {
   "cell_type": "code",
   "execution_count": null,
   "metadata": {
    "vscode": {
     "languageId": "plaintext"
    }
   },
   "outputs": [],
   "source": [
    "# Connect Client\n",
    "import tdmclient.notebook\n",
    "await tdmclient.notebook.start()\n",
    "\n",
    "# Import\n",
    "from LocalNav import LocalNav\n",
    "\n",
    "# Init Position\n",
    "#math.pi/2\n",
    "abs_pos = [[20, 20, 0]] # absolute x,y,theta coordinates of the robot\n",
    "\n",
    "# Goal Position\n",
    "goal_position = [[80, 80]]\n",
    "\n",
    "# Create Global Map\n",
    "map_global = create_map_global()\n",
    "\n",
    "# Main loop\n",
    "while abs(abs_pos-goal_position) < epsilon:\n",
    "    \n",
    "    # 2 States - Global or Local\n",
    "    if any(prox_horizontal): # if any obstacles\n",
    "        state = 1 # Local\n",
    "    else:\n",
    "        state = 0 # Global\n",
    "        \n",
    "\n"
   ]
  }
 ],
 "metadata": {
  "language_info": {
   "name": "python"
  }
 },
 "nbformat": 4,
 "nbformat_minor": 2
}
