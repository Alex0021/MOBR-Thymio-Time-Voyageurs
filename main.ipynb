{
 "cells": [
  {
   "cell_type": "markdown",
   "metadata": {},
   "source": [
    "Import librairies and packages"
   ]
  },
  {
   "cell_type": "code",
   "execution_count": 5,
   "metadata": {},
   "outputs": [
    {
     "ename": "CancelledError",
     "evalue": "",
     "output_type": "error",
     "traceback": [
      "\u001b[1;31m---------------------------------------------------------------------------\u001b[0m",
      "\u001b[1;31mCancelledError\u001b[0m                            Traceback (most recent call last)",
      "\u001b[1;32mc:\\Users\\alexa\\Drive (HomeNAS)\\EPFL\\Master\\Semestre_1\\Basics of mobile robotics\\Exercices\\Project\\MOBR-Thymio-Time-Voyageurs\\main.ipynb Cell 2\u001b[0m line \u001b[0;36m3\n\u001b[0;32m      <a href='vscode-notebook-cell:/c%3A/Users/alexa/Drive%20%28HomeNAS%29/EPFL/Master/Semestre_1/Basics%20of%20mobile%20robotics/Exercices/Project/MOBR-Thymio-Time-Voyageurs/main.ipynb#W1sZmlsZQ%3D%3D?line=0'>1</a>\u001b[0m \u001b[39mfrom\u001b[39;00m \u001b[39mtdmclient\u001b[39;00m \u001b[39mimport\u001b[39;00m ClientAsync, aw\n\u001b[0;32m      <a href='vscode-notebook-cell:/c%3A/Users/alexa/Drive%20%28HomeNAS%29/EPFL/Master/Semestre_1/Basics%20of%20mobile%20robotics/Exercices/Project/MOBR-Thymio-Time-Voyageurs/main.ipynb#W1sZmlsZQ%3D%3D?line=1'>2</a>\u001b[0m client \u001b[39m=\u001b[39m ClientAsync()\n\u001b[1;32m----> <a href='vscode-notebook-cell:/c%3A/Users/alexa/Drive%20%28HomeNAS%29/EPFL/Master/Semestre_1/Basics%20of%20mobile%20robotics/Exercices/Project/MOBR-Thymio-Time-Voyageurs/main.ipynb#W1sZmlsZQ%3D%3D?line=2'>3</a>\u001b[0m node \u001b[39m=\u001b[39m \u001b[39mawait\u001b[39;00m client\u001b[39m.\u001b[39mwait_for_node()\n\u001b[0;32m      <a href='vscode-notebook-cell:/c%3A/Users/alexa/Drive%20%28HomeNAS%29/EPFL/Master/Semestre_1/Basics%20of%20mobile%20robotics/Exercices/Project/MOBR-Thymio-Time-Voyageurs/main.ipynb#W1sZmlsZQ%3D%3D?line=3'>4</a>\u001b[0m \u001b[39mawait\u001b[39;00m node\u001b[39m.\u001b[39mlock()\n\u001b[0;32m      <a href='vscode-notebook-cell:/c%3A/Users/alexa/Drive%20%28HomeNAS%29/EPFL/Master/Semestre_1/Basics%20of%20mobile%20robotics/Exercices/Project/MOBR-Thymio-Time-Voyageurs/main.ipynb#W1sZmlsZQ%3D%3D?line=5'>6</a>\u001b[0m \u001b[39mimport\u001b[39;00m \u001b[39mos\u001b[39;00m\n",
      "File \u001b[1;32mc:\\Users\\alexa\\anaconda3\\envs\\mobile_robotics\\lib\\site-packages\\tdmclient\\clientasync.py:106\u001b[0m, in \u001b[0;36mClientAsync.wait_for_node\u001b[1;34m(self, timeout, **kwargs)\u001b[0m\n\u001b[0;32m    104\u001b[0m     sleep(\u001b[39mself\u001b[39m\u001b[39m.\u001b[39mDEFAULT_SLEEP)\n\u001b[0;32m    105\u001b[0m     time \u001b[39m+\u001b[39m\u001b[39m=\u001b[39m \u001b[39mself\u001b[39m\u001b[39m.\u001b[39mDEFAULT_SLEEP\n\u001b[1;32m--> 106\u001b[0m \u001b[39myield\u001b[39;00m\n",
      "\u001b[1;31mCancelledError\u001b[0m: "
     ]
    }
   ],
   "source": [
    "from tdmclient import ClientAsync, aw\n",
    "\n",
    "import os\n",
    "import sys\n",
    "import numpy as np\n",
    "import math\n",
    "import matplotlib.pyplot as plt\n",
    "from IPython.display import display, clear_output\n",
    "import Vision.CamCalib as calib\n",
    "import Vision.EnvTracker as tracker\n",
    "import time\n",
    "import cv2\n",
    "\n",
    "sys.path.insert(0, os.path.join(os.getcwd(), 'LocalNav/sensors'))\n",
    "from local_occupancy import thymio_coords\n",
    "\n",
    "sys.path.insert(0, os.path.join(os.getcwd(), 'plot'))\n",
    "from plot import plot\n",
    "\n",
    "sys.path.insert(0, os.path.join(os.getcwd(), 'LocalNav'))\n",
    "sys.path.insert(0, os.path.join(os.getcwd(), 'GlobalNav'))\n",
    "from LocalNav import localNav\n",
    "#from GlobalNav import GlobalNav"
   ]
  },
  {
   "cell_type": "markdown",
   "metadata": {},
   "source": [
    "Initialize components & objects"
   ]
  },
  {
   "cell_type": "code",
   "execution_count": 6,
   "metadata": {},
   "outputs": [],
   "source": [
    "USE_THYMIO = False\n",
    "\n",
    "if USE_THYMIO:\n",
    "    client = ClientAsync()\n",
    "    node = await client.wait_for_node()\n",
    "    await node.lock()\n",
    "    #Create a Client Object:\n",
    "    client = ClientAsync()\n",
    "\n",
    "    client.process_waiting_messages()\n",
    "\n",
    "# Parameters\n",
    "MAP_SIZE = (100, 100)  # In cm\n",
    "\n",
    "# Position\n",
    "abs_pos = [[20, 20, 0]] # absolute x,y,theta coordinates of the robot\n",
    "# Goal Position\n",
    "goal_position = [[80, 80]]\n",
    "\n",
    "# Initialize camCalib object to retrieve camera parameters\n",
    "cam_calib = calib.CamCalib(None, (16,9))\n",
    "cam_mat, dist_coefs, rvecs, tvecs = cam_calib.load_camera_params()\n",
    "quit = False\n",
    "run = True\n",
    "wait_for_map = True\n",
    "map_created = False\n",
    "\n",
    "# Initialize the environment tracker object to create global map and track thymio\n",
    "env_tracker = tracker.EnvTracker((100,100), cam_mat, dist_coefs)\n",
    "\n",
    "map_global = np.zeros((100,100))\n"
   ]
  },
  {
   "cell_type": "markdown",
   "metadata": {},
   "source": [
    "Main loop (run thymio)"
   ]
  },
  {
   "cell_type": "code",
   "execution_count": 7,
   "metadata": {},
   "outputs": [],
   "source": [
    "# Open camera feed & initialize map\n",
    "cv2.destroyAllWindows()\n",
    "cv2.namedWindow(\"Thymio Tracking\", cv2.WINDOW_NORMAL)\n",
    "cv2.resizeWindow(\"Thymio Tracking\", 1920, 1080)\n",
    "cam_feed = cv2.VideoCapture(0)\n",
    "cam_feed.set(cv2.CAP_PROP_FRAME_WIDTH, 1920)\n",
    "cam_feed.set(cv2.CAP_PROP_FRAME_HEIGHT, 1080)\n",
    "if not cam_feed.isOpened():\n",
    "    print(\"ERROR :: Could not open camera video feed!\")\n",
    "while (wait_for_map):\n",
    "    ret, frame = cam_feed.read()\n",
    "    # Undistord image\n",
    "    frame_corrected, roi = cam_calib.undistord(frame, cam_mat, dist_coefs)\n",
    "    x,y,w,h = roi\n",
    "    frame_corrected = frame_corrected[y:y+h, x:x+w, :]\n",
    "    marker_detected, img_markers = env_tracker.detectMarkers(frame_corrected)\n",
    "    map_detected, img_markers = env_tracker.detectMap(img_markers)\n",
    "    goal_detected, img_markers = env_tracker.detectGoal(img_markers)\n",
    "    if map_detected:\n",
    "        img_markers = env_tracker.extractMapCornerPose(img_markers)\n",
    "        img_markers = cv2.putText(img_markers, \"MAP DETECTED\", (img_markers.shape[1] - 300, 100), cv2.FONT_HERSHEY_SIMPLEX, 1, [0,255,0], 2)\n",
    "    if goal_detected:\n",
    "        goal_pose, _ = env_tracker.goalPose(frame_corrected)\n",
    "        img_markers = cv2.putText(img_markers, f'GOAL: {np.round(goal_pose, 1)}', (img_markers.shape[1] - 300, 200), cv2.FONT_HERSHEY_SIMPLEX, 1, [0,255,0], 2)\n",
    "        text_goal = f'GOAL: {np.round(goal_pose, 1)}'\n",
    "    cv2.imshow(\"Thymio Tracking\",img_markers)\n",
    "    key = cv2.waitKey(1)\n",
    "    if key == ord('q'):\n",
    "        quit = True\n",
    "        wait_for_map = False\n",
    "    elif key == ord(' '):\n",
    "        # Create map\n",
    "        if map_detected and goal_detected:\n",
    "            map_global = env_tracker.createMap(frame_corrected, bl_marker=0)\n",
    "            map_created = True\n",
    "            wait_for_map = False\n",
    "\n",
    "\n",
    "# Map is ready, run the thymio\n",
    "plt.show()\n",
    "quit = True\n",
    "while run and not quit:\n",
    "    \n",
    "    aw(node.lock())\n",
    "    await node.wait_for_variables({\"prox.horizontal\"})\n",
    "    prox_horizontal = list(node.v.prox.horizontal)\n",
    "\n",
    "    map_global = localNav(abs_pos, goal_position, prox_horizontal, map_global)\n",
    "\n",
    "    # Plot\n",
    "    plot(abs_pos, thymio_coords, goal_position, map_global, abs_pos[0][2])\n",
    "    time.sleep(1)\n",
    "    clear_output(wait=True)  # Clear the previous plot\n",
    "\n",
    "cv2.destroyAllWindows()\n",
    "cam_feed.release()"
   ]
  },
  {
   "cell_type": "code",
   "execution_count": null,
   "metadata": {},
   "outputs": [],
   "source": []
  }
 ],
 "metadata": {
  "kernelspec": {
   "display_name": "mobile_robotics",
   "language": "python",
   "name": "python3"
  },
  "language_info": {
   "codemirror_mode": {
    "name": "ipython",
    "version": 3
   },
   "file_extension": ".py",
   "mimetype": "text/x-python",
   "name": "python",
   "nbconvert_exporter": "python",
   "pygments_lexer": "ipython3",
   "version": "3.9.18"
  }
 },
 "nbformat": 4,
 "nbformat_minor": 2
}
