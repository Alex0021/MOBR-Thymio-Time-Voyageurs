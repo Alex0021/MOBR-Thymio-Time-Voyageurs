{
 "cells": [
  {
   "cell_type": "code",
   "execution_count": null,
   "metadata": {
    "vscode": {
     "languageId": "plaintext"
    }
   },
   "outputs": [],
   "source": [
    "from tdmclient import ClientAsync, aw\n",
    "client = ClientAsync()\n",
    "node = await client.wait_for_node()\n",
    "await node.lock()\n",
    "\n",
    "import os\n",
    "import sys\n",
    "import numpy as np\n",
    "import math\n",
    "import matplotlib.pyplot as plt\n",
    "from IPython.display import display, clear_output\n",
    "import time\n",
    "\n",
    "sys.path.insert(0, os.path.join(os.getcwd(), 'sensors'))\n",
    "from local_occupancy import thymio_coords\n",
    "\n",
    "sys.path.insert(0, os.path.join(os.getcwd(), 'plot'))\n",
    "from plot import plot\n",
    "\n",
    "sys.path.insert(0, os.path.join(os.getcwd(), 'LocalNav'))\n",
    "sys.path.insert(0, os.path.join(os.getcwd(), 'GlobalNav'))\n",
    "from LocalNav import localNav\n",
    "from GlobalNav import GlobalNav\n",
    "\n",
    "#Create a Client Object:\n",
    "client = ClientAsync()\n",
    "\n",
    "client.process_waiting_messages()\n",
    "\n",
    "# Position\n",
    "abs_pos = [[20, 20, 0]] # absolute x,y,theta coordinates of the robot\n",
    "# Goal Position\n",
    "goal_position = [[80, 80]]\n",
    "\n",
    "\n",
    "map_global = create_map_global()\n",
    "\n",
    "\n",
    "# Main loop\n",
    "while True:\n",
    "    \n",
    "    aw(node.lock())\n",
    "    await node.wait_for_variables({\"prox.horizontal\"})\n",
    "    prox_horizontal = list(node.v.prox.horizontal)\n",
    "\n",
    "    map_global = localNav(abs_pos, goal_position, prox_horizontal, map_global)\n",
    "\n",
    "    # Plot\n",
    "    plot(abs_pos, thymio_coords, goal_position, map_global, abs_pos[0][2])\n",
    "    time.sleep(1)\n",
    "    clear_output(wait=True)  # Clear the previous plot\n",
    "\n",
    "\n",
    "\n"
   ]
  }
 ],
 "metadata": {
  "language_info": {
   "name": "python"
  }
 },
 "nbformat": 4,
 "nbformat_minor": 2
}
