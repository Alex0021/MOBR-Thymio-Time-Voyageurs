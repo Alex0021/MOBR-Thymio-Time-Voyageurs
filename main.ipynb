{
 "cells": [
  {
   "cell_type": "code",
   "execution_count": null,
   "metadata": {
    "vscode": {
     "languageId": "plaintext"
    }
   },
   "outputs": [],
   "source": [
    "import tdmclient.notebook\n",
    "await tdmclient.notebook.start()\n",
    "\n",
    "import os\n",
    "import sys\n",
    "import numpy as np\n",
    "import math\n",
    "import matplotlib.pyplot as plt\n",
    "\n",
    "#sys.path.insert(0, os.path.join(os.getcwd(), 'LocalNav'))\n",
    "from LocalNav import localNav\n",
    "#from GlobalNav import GlobalNav\n",
    "\n",
    "\n",
    "# Init\n",
    "epsilon = 2\n",
    "\n",
    "# Position #math.pi/2\n",
    "abs_pos = [[20, 20, 0]] # absolute x,y,theta coordinates of the robot\n",
    "# Goal Position\n",
    "goal_position = [[80, 80]]\n",
    "\n",
    "# Create Global Map\n",
    "def create_map_global():\n",
    "    # Create a xy map with all zeros\n",
    "    map_size_x = 100\n",
    "    map_size_y = 100\n",
    "    map_global = np.zeros((map_size_x, map_size_y))\n",
    "\n",
    "    # Set the edges to 1\n",
    "    map_global[0, :] = 1  # Top edge\n",
    "    map_global[-1, :] = 1  # Bottom edge\n",
    "    map_global[:, 0] = 1  # Left edge\n",
    "    map_global[:, -1] = 1  # Right edge\n",
    "    \n",
    "    return map_global\n",
    "\n",
    "map_global = create_map_global()\n",
    "\n",
    "\n",
    "# Main loop\n",
    "#while True:\n",
    "\n",
    "# 2 States - Global/Local\n",
    "if any(value != 0 for value in prox_horizontal):\n",
    "    state = 1 # Local\n",
    "else:\n",
    "    state = 0 # Global\n",
    "\n",
    "\n",
    "if state == 1:\n",
    "    closest_angle, map_global = localNav(abs_pos, goal_position, prox_horizontal, map_global)\n",
    "\n",
    "# Plot\n",
    "plt.imshow(map_global, cmap='binary', origin='upper')\n",
    "plt.title(\"Global Map\")\n",
    "plt.xlim(0, len(map_global[:,1]))\n",
    "plt.ylim(0, len(map_global[1,:]))\n",
    "plt.xlabel(\"X [cm]\")\n",
    "plt.ylabel(\"Y [cm]\")\n",
    "plt.show()\n"
   ]
  }
 ],
 "metadata": {
  "language_info": {
   "name": "python"
  }
 },
 "nbformat": 4,
 "nbformat_minor": 2
}
