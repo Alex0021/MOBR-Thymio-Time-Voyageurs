{
 "cells": [
  {
   "cell_type": "code",
   "execution_count": null,
   "metadata": {
    "vscode": {
     "languageId": "plaintext"
    }
   },
   "outputs": [],
   "source": [
    "# Connect Client\n",
    "import tdmclient.notebook\n",
    "await tdmclient.notebook.start()\n",
    "\n",
    "# Import\n",
    "import os\n",
    "import sys\n",
    "import numpy as np\n",
    "import math\n",
    "\n",
    "sys.path.insert(0, os.path.join(os.getcwd(), 'LocalNav'))\n",
    "from LocalNav import LocalNav\n",
    "\n",
    "# Init Position\n",
    "#math.pi/2\n",
    "abs_pos = [[20, 20, 0]] # absolute x,y,theta coordinates of the robot\n",
    "\n",
    "# Goal Position\n",
    "goal_position = [[80, 80]]\n",
    "\n",
    "# Create Global Map\n",
    "map_global = create_map_global()\n",
    "\n",
    "# Main loop\n",
    "while abs(np.sqrt( (abs_pos[0][0]-goal_position[0][0])*(abs_pos[0][0]-goal_position[0][0]) + (abs_pos[0][1]-goal_position[0][1])*(abs_pos[0][1]-goal_position[0][1]) ) ) > epsilon:\n",
    "    \n",
    "    # 2 States - Global / Local\n",
    "    #if any(prox_horizontal):\n",
    "    if any(value != float('inf') for value in prox_horizontal):\n",
    "        state = 1 # Local\n",
    "    else:\n",
    "        state = 0 # Global\n",
    "        \n",
    "\n",
    "    if state == 1:\n",
    "        closest_angle, map_global = localNav(abs_pos, goal_position, prox_horizontal, map_global)\n",
    "        \n",
    "\n"
   ]
  }
 ],
 "metadata": {
  "language_info": {
   "name": "python"
  }
 },
 "nbformat": 4,
 "nbformat_minor": 2
}
