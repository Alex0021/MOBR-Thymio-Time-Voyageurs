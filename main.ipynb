{
 "cells": [
  {
   "cell_type": "markdown",
   "metadata": {},
   "source": [
    "Import librairies and packages"
   ]
  },
  {
   "cell_type": "code",
   "execution_count": 2,
   "metadata": {},
   "outputs": [],
   "source": [
    "from tdmclient import ClientAsync, aw\n",
    "\n",
    "import os\n",
    "import sys\n",
    "import numpy as np\n",
    "import math\n",
    "import matplotlib.pyplot as plt\n",
    "from IPython.display import display, clear_output\n",
    "import Vision.CamCalib as calib\n",
    "import Vision.EnvTracker as tracker\n",
    "import time\n",
    "import cv2\n",
    "import threading\n",
    "\n",
    "sys.path.insert(0, os.path.join(os.getcwd(), 'LocalNav/sensors'))\n",
    "from local_occupancy import thymio_coords\n",
    "\n",
    "sys.path.insert(0, os.path.join(os.getcwd(), 'plot'))\n",
    "from plot import plot\n",
    "\n",
    "sys.path.insert(0, os.path.join(os.getcwd(), 'LocalNav'))\n",
    "sys.path.insert(0, os.path.join(os.getcwd(), 'GlobalNav'))\n",
    "from LocalNav import localNav\n",
    "#from GlobalNav import GlobalNav\n",
    "#%matplotlib qt"
   ]
  },
  {
   "cell_type": "markdown",
   "metadata": {},
   "source": [
    "Initialize components & objects"
   ]
  },
  {
   "cell_type": "code",
   "execution_count": 3,
   "metadata": {},
   "outputs": [],
   "source": [
    "#Start Thymio\n",
    "USE_THYMIO = True\n",
    "\n",
    "if USE_THYMIO:\n",
    "    #Create a Client Object:\n",
    "    client = ClientAsync()\n",
    "    node = await client.wait_for_node()\n",
    "    await node.lock()\n",
    "\n",
    "    client.process_waiting_messages()"
   ]
  },
  {
   "cell_type": "code",
   "execution_count": 4,
   "metadata": {},
   "outputs": [],
   "source": [
    "def plotting_func(abs_pos, thymio_coords, goal_position, map_global, pointing_arrow):\n",
    "    plot(abs_pos, thymio_coords, goal_position, map_global, pointing_arrow)\n",
    "    plt.show()"
   ]
  },
  {
   "cell_type": "code",
   "execution_count": 5,
   "metadata": {},
   "outputs": [],
   "source": [
    "# Parameters\n",
    "MAP_W, MAP_H = (120, 120)  # In cm\n",
    "\n",
    "# Position\n",
    "abs_pos = [[20, 20, 0]] # absolute x,y,theta coordinates of the robot\n",
    "# Goal Position\n",
    "goal_position = [[80, 80]]\n",
    "\n",
    "# Initialize camCalib object to retrieve camera parameters\n",
    "cam_calib = calib.CamCalib(None, (16,9))\n",
    "cam_mat, dist_coefs, rvecs, tvecs = cam_calib.load_camera_params()\n",
    "quit = False\n",
    "run = True\n",
    "wait_for_map = True\n",
    "map_created = False\n",
    "\n",
    "# Initialize the environment tracker object to create global map and track thymio\n",
    "env_tracker = tracker.EnvTracker((MAP_W, MAP_H), cam_mat, dist_coefs)\n",
    "\n",
    "map_global = np.zeros((MAP_W, MAP_H))\n"
   ]
  },
  {
   "cell_type": "markdown",
   "metadata": {},
   "source": [
    "Main loop (run thymio)"
   ]
  },
  {
   "cell_type": "code",
   "execution_count": 6,
   "metadata": {},
   "outputs": [
    {
     "data": {
      "image/png": "[encoded data removed]",
      "text/plain": [
       "<Figure size 640x480 with 1 Axes>"
      ]
     },
     "metadata": {},
     "output_type": "display_data"
    }
   ],
   "source": [
    "# Open camera feed & initialize map\n",
    "cv2.destroyAllWindows()\n",
    "cv2.namedWindow(\"Thymio Tracking\", cv2.WINDOW_NORMAL)\n",
    "cv2.resizeWindow(\"Thymio Tracking\", 1680, 1050)\n",
    "cam_feed = cv2.VideoCapture(0)\n",
    "cam_feed.set(cv2.CAP_PROP_FRAME_WIDTH, 1680)\n",
    "cam_feed.set(cv2.CAP_PROP_FRAME_HEIGHT, 1050)\n",
    "if not cam_feed.isOpened():\n",
    "    print(\"ERROR :: Could not open camera video feed!\")\n",
    "map_created, map_global, goal_pose, thymio_init_pose = env_tracker.wait_for_map(cam_feed, cam_calib, window_name=\"Thymio Tracking\")\n",
    "goal_position = np.array([goal_pose[:]])\n",
    "print(\"Thymio init pose: \", thymio_init_pose)\n",
    "\n",
    "# Switch map X,Y\n",
    "map_global = np.transpose(map_global)\n",
    "\n",
    "# GLOBAL PLANNING \n",
    "if np.sum(goal_pose) >= 0 and np.sum(thymio_init_pose) > 0:\n",
    "    # If valid pose for goal and thymio\n",
    "    pass\n",
    "\n",
    "# Adjustments before tracking\n",
    "track_thymio = False\n",
    "show_markers = False\n",
    "frame_counter = 0\n",
    "text_pose = 'POS: ??'\n",
    "text_angle = 'ANGLE: ??'\n",
    "text_vel = 'VEL: ??'\n",
    "text_ang_vel = 'ANG. VEL: ??'\n",
    "text_goal = f'GOAL: {np.round(goal_pose, 1)}'\n",
    "pose_hist = np.zeros((2,10))\n",
    "angle_hist = np.zeros(10)\n",
    "cv2.resizeWindow(\"Thymio Tracking\", 1200, 1000)\n",
    "\n",
    "# Map is ready, run the thymio\n",
    "plt.show(block = False)\n",
    "quit = True\n",
    "frame_count = 0\n",
    "while run and not quit:\n",
    "    # Acquire cam image and perform thymio tracking\n",
    "    success, frame = cam_feed.read()\n",
    "    if not success:\n",
    "        run = False\n",
    "    # Detect map & thymio\n",
    "    frame_corrected, roi = cam_calib.undistord(frame, cam_mat, dist_coefs)\n",
    "    x,y,w,h = roi\n",
    "    frame_corrected = frame_corrected[y:y+h, x:x+w, :]\n",
    "    if track_thymio:\n",
    "        success, thymio_pose, thymio_vel, img_thymio = env_tracker.updateThymio(frame_corrected, show_markers)\n",
    "        if frame_count % 100:\n",
    "            env_tracker.updateMapROI(frame_corrected)\n",
    "        img_sidebar = np.zeros((img_thymio.shape[0], 200, 3), dtype=np.uint8)\n",
    "        if success:\n",
    "            abs_pos = np.array([thymio_pose[:]])\n",
    "            text_pose = f'POSE: {np.round(thymio_pose[:2], 1)}'\n",
    "            text_angle = f'ANGLE: {round(thymio_pose[2]*180/math.pi, 0)}'\n",
    "            text_vel = f'VEL: {np.round(thymio_vel[:2], 1)}'\n",
    "            text_ang_vel = f'ANG. VEL: {round(thymio_vel[2]*180/math.pi, 1)}'\n",
    "        cv2.putText(img_sidebar, text_pose, (10, 100), cv2.FONT_HERSHEY_TRIPLEX, 0.5, [0,255,0], 1)\n",
    "        cv2.putText(img_sidebar, text_angle, (10, 175), cv2.FONT_HERSHEY_TRIPLEX, 0.5, [0,255,0], 1)\n",
    "        cv2.putText(img_sidebar, text_vel, (10, 250), cv2.FONT_HERSHEY_TRIPLEX, 0.5, [0,255,0], 1)\n",
    "        cv2.putText(img_sidebar, text_ang_vel, (10, 325), cv2.FONT_HERSHEY_TRIPLEX, 0.5, [0,255,0], 1)\n",
    "        cv2.putText(img_sidebar, text_goal, (10, 400), cv2.FONT_HERSHEY_TRIPLEX, 0.5, [0,255,0], 1)\n",
    "        # Concatenate images\n",
    "        img_thymio = cv2.hconcat([img_thymio, img_sidebar])\n",
    "    else:\n",
    "        img_thymio = env_tracker.getProjectedMap(frame_corrected)\n",
    "    cv2.imshow(\"Thymio Tracking\",img_thymio)\n",
    "    key = cv2.waitKey(1)\n",
    "    if key == ord('q'):\n",
    "        run = False\n",
    "    elif key == ord(' '):\n",
    "        # Track thymio or not\n",
    "        track_thymio = not track_thymio\n",
    "    elif key == ord('m'):\n",
    "        show_markers = True\n",
    "    \n",
    "    if USE_THYMIO:\n",
    "        await node.wait_for_variables({\"prox.horizontal\"})\n",
    "        prox_horizontal = list(node.v.prox.horizontal)\n",
    "        print(f'prox_hor: {prox_horizontal}')\n",
    "    else:\n",
    "        prox_horizontal = np.zeros(7)\n",
    "\n",
    "    map_global = localNav(abs_pos, goal_position, prox_horizontal, map_global)\n",
    "\n",
    "    # Plot\n",
    "    #myThread = threading.Thread(target=plotting_func, args=(abs_pos, thymio_coords, goal_position, map_global, abs_pos[0][2]))\n",
    "    #myThread.start()\n",
    "    if frame_count % 30:\n",
    "        clear_output(wait=True)  # Clear the previous plot\n",
    "        plot(abs_pos, thymio_coords, goal_position, map_global, abs_pos[0][2])\n",
    "        plt.show()\n",
    "        #time.sleep(1)\n",
    "    frame_count += 1\n",
    "\n",
    "if cam_feed:\n",
    "    cam_feed.release()\n",
    "cv2.destroyAllWindows()"
   ]
  },
  {
   "cell_type": "code",
   "execution_count": null,
   "metadata": {},
   "outputs": [],
   "source": []
  }
 ],
 "metadata": {
  "kernelspec": {
   "display_name": "mobile_robotics",
   "language": "python",
   "name": "python3"
  },
  "language_info": {
   "codemirror_mode": {
    "name": "ipython",
    "version": 3
   },
   "file_extension": ".py",
   "mimetype": "text/x-python",
   "name": "python",
   "nbconvert_exporter": "python",
   "pygments_lexer": "ipython3",
   "version": "3.9.18"
  }
 },
 "nbformat": 4,
 "nbformat_minor": 2
}
