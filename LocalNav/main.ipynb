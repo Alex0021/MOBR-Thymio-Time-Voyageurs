{
 "cells": [
  {
   "cell_type": "code",
   "execution_count": 1,
   "metadata": {},
   "outputs": [],
   "source": [
    "import tdmclient.notebook\n",
    "await tdmclient.notebook.start()\n",
    "\n",
    "import os\n",
    "import sys\n",
    "import math\n",
    "from statistics import mean\n",
    "import pandas as pd\n",
    "import numpy as np\n",
    "import matplotlib.pyplot as plt\n",
    "from scipy.interpolate import interp1d\n",
    "\n",
    "from sklearn.linear_model import LinearRegression\n",
    "\n",
    "sys.path.insert(0, os.path.join(os.getcwd(), 'sensors'))\n",
    "sys.path.insert(0, os.path.join(os.getcwd(), 'global_map'))\n",
    "sys.path.insert(0, os.path.join(os.getcwd(), 'tools'))\n",
    "from sensors import obstacles_pos\n",
    "from local_occupancy import sensor_measurements, sensor_distances\n",
    "from local_occupancy import thymio_coords, sensor_pos_from_center, sensor_angles\n",
    "from map_global import create_map_global, update_map\n",
    "from linear_regression import linear_regression\n",
    "from count_group import count_transitions, count_group\n",
    "\n",
    "%matplotlib inline"
   ]
  },
  {
   "cell_type": "code",
   "execution_count": 2,
   "metadata": {},
   "outputs": [],
   "source": [
    "# Init Position\n",
    "#math.pi/2\n",
    "abs_pos = [[20, 20, 0]] # absolute x,y,theta coordinates of the robot\n",
    "# Goal Position\n",
    "goal_position = [[80, 80]]"
   ]
  },
  {
   "cell_type": "code",
   "execution_count": 3,
   "metadata": {},
   "outputs": [
    {
     "name": "stdout",
     "output_type": "stream",
     "text": [
      "Unchecked ExtSlice(dims=[Slice(lower=None, upper=None, step=None), Index(value=Num(n=0))])\n",
      "Unchecked ExtSlice(dims=[Slice(lower=None, upper=None, step=None), Index(value=Num(n=1))])\n",
      "Unchecked ExtSlice(dims=[Slice(lower=None, upper=None, step=None), Index(value=Num(n=0))])\n",
      "Unchecked ExtSlice(dims=[Slice(lower=None, upper=None, step=None), Index(value=Num(n=1))])\n"
     ]
    },
    {
     "data": {
      "text/plain": [
       "<matplotlib.collections.PathCollection at 0x23814ff6588>"
      ]
     },
     "execution_count": 3,
     "metadata": {},
     "output_type": "execute_result"
    },
    {
     "data": {
      "image/png": "[encoded data removed]",
      "text/plain": [
       "<Figure size 504x504 with 1 Axes>"
      ]
     },
     "metadata": {
      "needs_background": "light"
     },
     "output_type": "display_data"
    }
   ],
   "source": [
    "# Get sensors values\n",
    "sensor_vals = prox_horizontal\n",
    "\n",
    "# Exchange rear elements to represent view from above\n",
    "sensor_vals[5], sensor_vals[6] = sensor_vals[6], sensor_vals[5]\n",
    "\n",
    "# Compute position of obstacles\n",
    "obstacles_pos = obstacles_pos(sensor_vals, sensor_measurements, sensor_distances, sensor_pos_from_center, sensor_angles)\n",
    "\n",
    "# Plot the local map\n",
    "plt.figure(figsize=(7,7))\n",
    "plt.title(\"Local Map\")\n",
    "plt.xlabel(\"X [cm]\")\n",
    "plt.ylabel(\"Y [cm]\")\n",
    "# Plot shape of Thymio\n",
    "plt.plot(thymio_coords[:,0], thymio_coords[:,1])\n",
    "plt.axis(\"equal\")\n",
    "plt.scatter(obstacles_pos[:,0], obstacles_pos[:,1], marker=\"o\", color=\"r\")"
   ]
  },
  {
   "cell_type": "code",
   "execution_count": 4,
   "metadata": {},
   "outputs": [
    {
     "name": "stdout",
     "output_type": "stream",
     "text": [
      "Unchecked ExtSlice(dims=[Slice(lower=None, upper=None, step=None), Index(value=Num(n=0))])\n",
      "Unchecked ExtSlice(dims=[Slice(lower=None, upper=None, step=None), Index(value=Num(n=1))])\n"
     ]
    },
    {
     "data": {
      "image/png": "[encoded data removed]",
      "text/plain": [
       "<Figure size 432x288 with 1 Axes>"
      ]
     },
     "metadata": {
      "needs_background": "light"
     },
     "output_type": "display_data"
    }
   ],
   "source": [
    "# Compute linear regression of lines from front and back\n",
    "\n",
    "# Front\n",
    "data = obstacles_pos[0:5]\n",
    "X, y_pred, mask = linear_regression(data)\n",
    "\n",
    "# Back\n",
    "data_back = obstacles_pos[5:8]\n",
    "X_back, y_pred_back, mask_back = linear_regression(data_back)\n",
    "\n",
    "\n",
    "## Plot\n",
    "\n",
    "# Front\n",
    "plt.title(\"Linear Regression Obstacles\")\n",
    "plt.plot(X, y_pred, color='black', label='Regression line')\n",
    "plt.scatter(X[mask], y_pred[mask], color='black', label='Isolated Points')  # Scatter plot for isolated points\n",
    "\n",
    "# Back\n",
    "plt.plot(X_back, y_pred_back, color='black', label='Regression line')\n",
    "plt.scatter(X_back[mask_back], y_pred_back[mask_back], color='black', label='Isolated Points')  # Scatter plot for isolated points\n",
    "\n",
    "# Plot shape of Thymio\n",
    "plt.plot(thymio_coords[:,0], thymio_coords[:,1])\n",
    "plt.axis(\"equal\")\n",
    "\n",
    "plt.show()\n",
    "\n",
    "\n",
    "# Calculate the angle of the normal vector\n",
    "#slope = model.coef_[0][0]\n",
    "#angle_radians = np.arctan(slope)-math.pi/2"
   ]
  },
  {
   "cell_type": "code",
   "execution_count": 5,
   "metadata": {},
   "outputs": [
    {
     "name": "stdout",
     "output_type": "stream",
     "text": [
      "Unchecked ExtSlice(dims=[Slice(lower=None, upper=None, step=None), Index(value=Num(n=0))])\n",
      "Unchecked ExtSlice(dims=[Slice(lower=None, upper=None, step=None), Index(value=Num(n=1))])\n",
      "Unchecked ExtSlice(dims=[Slice(lower=None, upper=None, step=None), Index(value=Num(n=0))])\n",
      "Unchecked ExtSlice(dims=[Slice(lower=None, upper=None, step=None), Index(value=Num(n=1))])\n",
      "Unchecked ExtSlice(dims=[Slice(lower=None, upper=None, step=None), Index(value=Num(n=0))])\n",
      "Unchecked ExtSlice(dims=[Slice(lower=None, upper=None, step=None), Index(value=Num(n=1))])\n"
     ]
    }
   ],
   "source": [
    "# Create Global Map\n",
    "map_global = create_map_global()\n",
    "\n",
    "# Add Local map to Global map -> when switch back to global navigation\n",
    "#map_global = update_map(abs_pos, map_global, obstacles_pos)\n",
    "\n",
    "# Compute absolute values\n",
    "# Rotation matrix\n",
    "theta = abs_pos[0][2]\n",
    "rotation_matrix = np.array([[np.cos(theta), -np.sin(theta)],\n",
    "                           [np.sin(theta), np.cos(theta)]])\n",
    "# Thymio\n",
    "thymio_coords_rotated = np.dot(thymio_coords, rotation_matrix)\n",
    "thymio_X = abs_pos[0][0]+thymio_coords_rotated[:,0]\n",
    "thymio_y = abs_pos[0][1]+thymio_coords_rotated[:,1]\n",
    "\n",
    "# Front obstacles\n",
    "front_obst_coords = np.column_stack((X, y_pred))\n",
    "front_obst_coords_rotated = np.dot(front_obst_coords, rotation_matrix)\n",
    "front_obst_X = front_obst_coords_rotated[:, 0]+abs_pos[0][0]\n",
    "front_obst_y = front_obst_coords_rotated[:, 1]+abs_pos[0][1]\n",
    "\n",
    "# Back obstacles\n",
    "back_obst_coords = np.column_stack((X_back, y_pred_back))\n",
    "back_obst_coords_rotated = np.dot(back_obst_coords, rotation_matrix)\n",
    "back_obst_X = back_obst_coords_rotated[:, 0]+abs_pos[0][0]\n",
    "back_obst_y = back_obst_coords_rotated[:, 1]+abs_pos[0][1]\n",
    "\n",
    "\n"
   ]
  },
  {
   "cell_type": "code",
   "execution_count": 6,
   "metadata": {},
   "outputs": [
    {
     "name": "stdout",
     "output_type": "stream",
     "text": [
      "Unchecked ExtSlice(dims=[Slice(lower=None, upper=None, step=None), Index(value=Num(n=1))])\n",
      "Unchecked ExtSlice(dims=[Index(value=Num(n=1)), Slice(lower=None, upper=None, step=None)])\n",
      "[0, 1, 2, 5, -2, -4]\n",
      "possible_path_angles\n",
      "40.0\n",
      "possible_path_angles\n",
      "20.0\n",
      "possible_path_angles\n",
      "0.0\n",
      "possible_path_angles\n",
      "-140.0\n",
      "possible_path_angles\n",
      "-59.99999999999999\n",
      "possible_path_angles\n",
      "90.0\n",
      "Angle to goal 45.0\n",
      "Closest Angle to Goal: 40.0\n"
     ]
    },
    {
     "data": {
      "image/png": "[encoded data removed]",
      "text/plain": [
       "<Figure size 432x288 with 1 Axes>"
      ]
     },
     "metadata": {
      "needs_background": "light"
     },
     "output_type": "display_data"
    }
   ],
   "source": [
    "# Plot global map\n",
    "plt.imshow(map_global, cmap='binary', origin='upper')\n",
    "plt.title(\"Global Map\")\n",
    "plt.xlim(0, len(map_global[:,1]))\n",
    "plt.ylim(0, len(map_global[1,:]))\n",
    "plt.xlabel(\"X [cm]\")\n",
    "plt.ylabel(\"Y [cm]\")\n",
    "# Plot goal\n",
    "plt.scatter(goal_position[0][0], goal_position[0][1], color='red')\n",
    "# Plot thymio\n",
    "plt.plot(thymio_X, thymio_y)\n",
    "# Plot obstacles\n",
    "# Front\n",
    "plt.plot(front_obst_X, front_obst_y, color='black', label='Regression line')\n",
    "# Scatter plot\n",
    "isolated_points_indices = np.where(mask)[0]  # Get indices where mask is True\n",
    "isolated_points_X = front_obst_coords_rotated[isolated_points_indices, 0] + abs_pos[0][0]\n",
    "isolated_points_y = front_obst_coords_rotated[isolated_points_indices, 1] + abs_pos[0][1]\n",
    "plt.scatter(isolated_points_X, isolated_points_y, color='black', label='Isolated Points')\n",
    "\n",
    "# Back\n",
    "plt.plot(back_obst_X, back_obst_y, color='black', label='Regression line')\n",
    "# Scatter plot\n",
    "isolated_points_indices_back = np.where(mask_back)[0]  # Get indices where mask is True\n",
    "isolated_points_X_back = back_obst_coords_rotated[isolated_points_indices_back, 0] + abs_pos[0][0]\n",
    "isolated_points_y_back = back_obst_coords_rotated[isolated_points_indices_back, 1] + abs_pos[0][1]\n",
    "plt.scatter(isolated_points_X_back, isolated_points_y_back, color='black', label='Isolated Points')\n",
    "\n",
    "# temporary\n",
    "# Calculate the angle to reach the goal in a straight line\n",
    "delta_x = goal_position[0][0] - abs_pos[0][0]\n",
    "delta_y = goal_position[0][1] - abs_pos[0][1]\n",
    "angle_to_goal = math.atan2(delta_y, delta_x)-abs_pos[0][2]\n",
    "\n",
    "\n",
    "\n",
    "\n",
    "# Filter value to create extra wall, constraints\n",
    "# Compute number of group\n",
    "nb_grouph, mask, mask_back = count_group(mask, mask_back, X, y_pred, X_back, y_pred_back)\n",
    "\n",
    "# Number of possible path\n",
    "if nb_grouph == 1:\n",
    "    nb_path = 2\n",
    "else:\n",
    "    nb_path = nb_grouph\n",
    "\n",
    "# Find best path\n",
    "possible_path = []\n",
    "\n",
    "# Look if possible in front\n",
    "for i in range(len(mask.flatten())):\n",
    "    current_value = mask.flatten()[i]\n",
    "    if mask[i]==0:\n",
    "        possible_path.append(i)\n",
    "        \n",
    "# Look if possible in back\n",
    "for i in range(len(mask_back.flatten())):\n",
    "    current_value = mask_back.flatten()[i]\n",
    "    if mask_back[i]==0:\n",
    "        possible_path.append(i+5)\n",
    "        \n",
    "# Add edge front\n",
    "if mask[0]==1:\n",
    "    possible_path.append(-1)\n",
    "if mask[4]==1:\n",
    "    possible_path.append(-2)\n",
    "\n",
    "# Add edge back\n",
    "if mask_back[0]==1:\n",
    "    possible_path.append(-3)\n",
    "if mask_back[1]==1:\n",
    "    possible_path.append(-4)\n",
    "\n",
    "print(possible_path)\n",
    "# Convert possible_path to angles\n",
    "angle_mapping = {\n",
    "    6: 140, -4: 90,-1: 60, 0: 40, 1: 20, 2: 0, 3: -20, 4: -40, -2: -60, -3: -90, 5: -140\n",
    "}\n",
    "\n",
    "possible_path_angles = []\n",
    "\n",
    "for i, state in enumerate(possible_path):\n",
    "    # Check if the state has a corresponding angle in the mapping\n",
    "    if state in angle_mapping:\n",
    "        # Convert degrees to radians\n",
    "        angle_in_radians = math.radians(angle_mapping[state])\n",
    "        possible_path_angles.append(angle_in_radians)\n",
    "        \n",
    "for angle in possible_path_angles:\n",
    "    print(\"possible_path_angles\")\n",
    "    print(math.degrees(angle))\n",
    "\n",
    "# Choose angle closest to angle_to_goal\n",
    "closest_angle = min(possible_path_angles, key=lambda x: abs(x - angle_to_goal))\n",
    "\n",
    "print(\"Angle to goal\", math.degrees(angle_to_goal))\n",
    "print(\"Closest Angle to Goal:\", math.degrees(closest_angle))\n",
    "\n",
    "# Plot the best angle to exit local location\n",
    "x, y, angle = abs_pos[0][:]\n",
    "dx = math.cos(closest_angle)#angle_radians\n",
    "dy = math.sin(closest_angle)#closest_angle\n",
    "plt.quiver(x, y, dx, dy, angles='xy', scale_units='xy', scale=0.1, color='r', width=0.01)\n",
    "\n",
    "\n",
    "plt.show()"
   ]
  },
  {
   "cell_type": "code",
   "execution_count": null,
   "metadata": {},
   "outputs": [],
   "source": [
    "\n"
   ]
  },
  {
   "cell_type": "code",
   "execution_count": 7,
   "metadata": {},
   "outputs": [
    {
     "data": {
      "text/plain": [
       "\"\\n# Set all value from absolute position\\nfor pos in obstacles_pos:\\n    print(pos)\\n    print(abs_pos[-1][0])\\n    if not math.isinf(pos[0] or pos[1]):\\n        rounded_x_indices = np.round(abs_pos[-1][0] + pos[0], 1).astype(int)\\n        rounded_y_indices = np.round(abs_pos[-1][1] + pos[1], 1).astype(int)\\nprint(rounded_x_indices)\\nprint('')\\nprint(rounded_y_indices)\\nfor x, y in zip(rounded_x_indices, rounded_y_indices):\\n    map_global[x, y] = 1\\n\""
      ]
     },
     "execution_count": 7,
     "metadata": {},
     "output_type": "execute_result"
    }
   ],
   "source": [
    "# \n",
    "#if collision():\n",
    "    #local_localization()\n",
    "\n",
    "\n",
    "# Avoidment Reaction if obstacles detected\n",
    "# angle = normal of lines\n",
    "# u = \n",
    "\n",
    "\n",
    "'''\n",
    "# Set all value from absolute position\n",
    "for pos in obstacles_pos:\n",
    "    print(pos)\n",
    "    print(abs_pos[-1][0])\n",
    "    if not math.isinf(pos[0] or pos[1]):\n",
    "        rounded_x_indices = np.round(abs_pos[-1][0] + pos[0], 1).astype(int)\n",
    "        rounded_y_indices = np.round(abs_pos[-1][1] + pos[1], 1).astype(int)\n",
    "print(rounded_x_indices)\n",
    "print('')\n",
    "print(rounded_y_indices)\n",
    "for x, y in zip(rounded_x_indices, rounded_y_indices):\n",
    "    map_global[x, y] = 1\n",
    "'''"
   ]
  },
  {
   "cell_type": "code",
   "execution_count": 8,
   "metadata": {},
   "outputs": [],
   "source": [
    "# Get speed\n",
    "#dx,dy,dtheta = \n",
    "\n",
    "# Provided the relative positions, compute the absolute positions at each step\n",
    "#for (dx,dy,dtheta) in rel_dpos[:]:\n",
    "    #(x,y,theta) = abs_pos[-1][0], abs_pos[-1][1], abs_pos[-1][2]\n",
    "    #d = np.sqrt(dx**2+dy**2)\n",
    "    #new_pos = [x+d*np.cos(theta+dtheta), y+d*np.sin(theta+dtheta), (theta+dtheta)%(2*math.pi)]\n",
    "    # Appending the computed absolute x, y and theta coordinates to the list\n",
    "    #abs_pos.append(new_pos)\n",
    "\n",
    "#abs_pos = np.array(abs_pos)"
   ]
  },
  {
   "cell_type": "code",
   "execution_count": null,
   "metadata": {},
   "outputs": [],
   "source": []
  }
 ],
 "metadata": {
  "kernelspec": {
   "display_name": "Python 3",
   "language": "python",
   "name": "python3"
  },
  "language_info": {
   "codemirror_mode": {
    "name": "ipython",
    "version": 3
   },
   "file_extension": ".py",
   "mimetype": "text/x-python",
   "name": "python",
   "nbconvert_exporter": "python",
   "pygments_lexer": "ipython3",
   "version": "3.7.4"
  }
 },
 "nbformat": 4,
 "nbformat_minor": 2
}
