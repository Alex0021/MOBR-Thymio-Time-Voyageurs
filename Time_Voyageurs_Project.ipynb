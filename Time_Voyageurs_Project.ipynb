{
 "cells": [
  {
   "cell_type": "markdown",
   "metadata": {},
   "source": [
    "<img src=\"images/project_pic.png\"\n",
    "     alt=\"Group picture\"\n",
    "     style=\"float: left; margin-right: 20px\"\n",
    "     width=400px\n",
    "     height=300px />\n",
    "\n",
    "# BOMR - Project\n",
    "## < Time voyageurs >\n",
    "\n",
    "\n",
    "Team members:\n",
    "- Alexandre Hébert\n",
    "- Quentin\n",
    "- Rayan\n",
    "- Marko"
   ]
  }
 ],
 "metadata": {
  "language_info": {
   "name": "python"
  }
 },
 "nbformat": 4,
 "nbformat_minor": 2
}
