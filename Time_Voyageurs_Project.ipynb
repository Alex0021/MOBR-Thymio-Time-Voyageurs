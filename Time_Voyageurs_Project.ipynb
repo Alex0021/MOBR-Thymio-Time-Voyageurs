{
 "cells": [
  {
   "cell_type": "markdown",
   "metadata": {},
   "source": [
    "<img src=\"Vision/images/project_pic.png\"\n",
    "     alt=\"Group picture\"\n",
    "     style=\"float: left; margin-right: 20px\"\n",
    "     width=400px\n",
    "     height=300px />\n",
    "\n",
    "# BOMR - Project\n",
    "## < Time voyageurs >\n",
    "\n",
    "\n",
    "Team members:\n",
    "- Alexandre Hébert\n",
    "- Quentin Rossier\n",
    "- Rayan\n",
    "- Marko"
   ]
  },
  {
   "cell_type": "markdown",
   "metadata": {},
   "source": [
    "---"
   ]
  },
  {
   "cell_type": "markdown",
   "metadata": {},
   "source": [
    "# 1- Project structure\n",
    "\n",
    "The project is divided into 5 parts:\n",
    "- Vision\n",
    "- Global Navigation\n",
    "- Local Navigation\n",
    "- Filtering\n",
    "- Motion\n",
    "\n",
    "# 2- Environment\n",
    "\n",
    "This is the environment (map) choosen for this project:\n",
    "\n",
    "<img src=\"Vision/images/THYMIO_ENV_FINAL.jpg\"\n",
    "     alt=\"Map Environment\"\n",
    "     style=\" margin-right: 20px\"\n",
    "     width=800px\n",
    "     height=900px />\n",
    "\n",
    "**Definition/Assumptions** :\n",
    "1. Map background is white\n",
    "2. Map is 120x120 cm (square) and delimited by Aruco Markers\n",
    "3. Global obstacles are black\n",
    "4. Global obstacles are 2D (for simplicity) and have closed-edges (closed shapes)\n",
    "5. Goal and thymio are detected using Aruco markers (see vision for explanations)\n",
    "\n",
    "# 3- Details about each part of the project\n",
    "\n",
    "# 3-1 Local Navigation\n",
    "\n",
    "Local Navigation always make sure to detect obstacles around the Thymio with a high frequency update.\n",
    "\n",
    "When sensors next to each other detect an obstacle, they get associated in the same group. Through it's sensors the thymio then perform a linear regression to each groups of points to better approximate it's environements. Points are detected as singular group, represented as a point. When groups of point are closer than the width of the thymio, it merges then as 1 group.\n",
    "\n",
    "<img src=\"Vision/images/LocalNav.jpg\"\n",
    "     alt=\"Map Environment\"\n",
    "     style=\" margin-right: 20px\"\n",
    "     width=500px\n",
    "     height=500px />\n",
    "\n",
    "Once the Thymio has detected new obstacles it then updates the main Global Map to remember the position of local obstacles.\n",
    "\n",
    "# 3-4 Kalman Filter \n",
    "\n",
    "Kalman filters can be used in linear systems but because our robot can move freely in 2 dimensions and can rotate as well, our system is therefore non-linear. We then have to use an Extended Kalman Filter where we first linearize our system. We can thus model our system with the following equations :\n",
    "\n",
    "<img src=\"Kalman/images/Eq1.jpg\"\n",
    "     alt=\"Map Environment\"\n",
    "     style=\" margin-right: 20px\"\n",
    "     width=500px\n",
    "     height=500px />\n",
    "     \n",
    "But we can also write it in this format : \n",
    "\n",
    "<img src=\"Vision/images/Eq2.jpg\"\n",
    "     alt=\"Map Environment\"\n",
    "     style=\" margin-right: 20px\"\n",
    "     width=500px\n",
    "     height=500px />\n",
    "     \n",
    "The Kalman filter is composed of two steps : prediction and update. \n",
    "In the former, we use a state space model to predict the position of the robot at time t+1 (which is what we basically did in the images at the top). The second step can only be used when the camera is on as it is where the robot's path is corrected by combining the information of the camera and the prediction made by the filter. \n",
    "\n",
    "# 4- Limitations\n",
    "\n",
    "# 5- Conclusion\n"
   ]
  },
  {
   "cell_type": "raw",
   "metadata": {},
   "source": []
  }
 ],
 "metadata": {
  "kernelspec": {
   "display_name": "Python 3 (ipykernel)",
   "language": "python",
   "name": "python3"
  },
  "language_info": {
   "codemirror_mode": {
    "name": "ipython",
    "version": 3
   },
   "file_extension": ".py",
   "mimetype": "text/x-python",
   "name": "python",
   "nbconvert_exporter": "python",
   "pygments_lexer": "ipython3",
   "version": "3.11.4"
  }
 },
 "nbformat": 4,
 "nbformat_minor": 2
}
