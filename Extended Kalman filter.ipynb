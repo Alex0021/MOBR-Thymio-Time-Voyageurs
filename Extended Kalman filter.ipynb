{
 "cells": [
  {
   "cell_type": "code",
   "execution_count": 36,
   "id": "e1504589",
   "metadata": {},
   "outputs": [],
   "source": [
    "import numpy as np\n",
    " \n",
    "np.set_printoptions(precision=3,suppress=True)\n",
    "\n",
    "A_k_minus_1 = np.array([[1.0,0,0],[0,1.0,0],[0,0,1.0]]) #Identity matrix touche pas\n",
    "\n",
    "process_noise_v_k_minus_1 = np.array([0.01,0.01,0.003]) #modifier erreur \n",
    "\n",
    "Q_k = np.array([[1.0,0,0], [0, 1.0,   0],[0,0,1.0]])# State model noise covariance matrix Q_k\n",
    "\n",
    "# If Q big, Kalman Filter tracks large changes in \n",
    "# the sensor measurements more closely than for smaller Q.\n",
    "# Q is a square matrix that has the same number of rows as states.\n",
    "                 \n",
    "\n",
    "H_k = np.array([[1.0,0,0],[0,1.0,0],[0,0,1.0]]) #touche pas \n",
    "                         \n",
    "\n",
    "R_k = np.array([[0.0001,0,0],[0,0.0001,0],[0,0,0.0001]]) # Sensor measurement noise covariance matrix R_k\n",
    "# Has the same number of rows and columns as sensor measurements.\n",
    "# If we are sure about the measurements, R will be near zero.\n",
    "\n",
    "sn = np.array([0.07,0.07,0.04]) #a modifier erreur \n",
    " \n",
    "def getB(yaw, deltak):\n",
    "    B = np.array([[np.cos(yaw)*deltak, 0],[np.sin(yaw)*deltak, 0],[0, deltak]])\n",
    "    return B\n",
    " \n",
    "def efilter(z_k_observation_vector, state_estimate_k_minus_1, \n",
    "        control_vector_k_minus_1, P_k_minus_1):\n",
    "    dk=1 #intervalle de temps à modifier\n",
    "    state_estimate_k = A_k_minus_1 @ (state_estimate_k_minus_1) + (getB(state_estimate_k_minus_1[2],dk)) @ (control_vector_k_minus_1) + (process_noise_v_k_minus_1)    \n",
    "    \n",
    "    #print(f'State Estimate Before EKF={state_estimate_k}')\n",
    "    print(f'control vector={control_vector_k_minus_1}')\n",
    "    \n",
    "    P_k = A_k_minus_1 @ P_k_minus_1 @ A_k_minus_1.T + (Q_k)\n",
    "    measurement_residual_y_k = z_k_observation_vector-((H_k @ state_estimate_k) + (sn))\n",
    "    \n",
    "    print(f'Observation={z_k_observation_vector}')          \n",
    "    \n",
    "    S_k = H_k @ P_k @ H_k.T + R_k\n",
    "    K_k = P_k @ H_k.T @ np.linalg.pinv(S_k)\n",
    "    state_estimate_k = state_estimate_k + (K_k @ measurement_residual_y_k)    \n",
    "    P_k = P_k - (K_k @ H_k @ P_k)\n",
    "    \n",
    "    print(f'State Estimate After EKF={state_estimate_k}')\n",
    "    \n",
    "    return state_estimate_k, P_k\n",
    "     \n",
    "def Kalman(state,control,state_k_minus_1,P_k_minus_1):          \n",
    "    \n",
    "    optimal_state_estimate_k, covariance_estimate_k = efilter(state,state_k_minus_1, control, P_k_minus_1) \n",
    "    return optimal_state_estimate_k, covariance_estimate_k\n",
    "        "
   ]
  },
  {
   "cell_type": "code",
   "execution_count": 37,
   "id": "aedb0358",
   "metadata": {},
   "outputs": [
    {
     "name": "stdout",
     "output_type": "stream",
     "text": [
      "State Estimate Before EKF=[4.51  0.01  0.003]\n",
      "control vector=[4.5, 0]\n",
      "Observation=[4.5, 0.0, 0.0]\n",
      "State Estimate After EKF=[ 4.43 -0.07 -0.04]\n"
     ]
    },
    {
     "data": {
      "text/plain": [
       "(array([ 4.43, -0.07, -0.04]),\n",
       " array([[0., 0., 0.],\n",
       "        [0., 0., 0.],\n",
       "        [0., 0., 0.]]))"
      ]
     },
     "execution_count": 37,
     "metadata": {},
     "output_type": "execute_result"
    }
   ],
   "source": [
    "state_estimate_k_minus_1 = np.array([0.0,0.0,0.0])\n",
    "P_k_minus_1 = np.array([[0.1,0,0],[0,0.1,0],[0,0,0.1]]) #à modifier\n",
    "\n",
    "Kalman([4.5,0.0,0.0],[4.5,0],state_estimate_k_minus_1,P_k_minus_1)\n",
    "\n",
    "\n",
    "#state_k_minus_1 = optimal_state_estimate_k\n",
    "#P_k_minus_1 = covariance_estimate_k\n",
    "\n",
    "\n"
   ]
  },
  {
   "cell_type": "code",
   "execution_count": 41,
   "id": "6abe57e7",
   "metadata": {},
   "outputs": [
    {
     "name": "stdout",
     "output_type": "stream",
     "text": [
      "State Estimate Before EKF=[4.51  0.01  0.003]\n",
      "control vector=[4.5, 0]\n",
      "Observation=[4.5, 0.0, 0.0]\n",
      "State Estimate After EKF=[ 4.43 -0.07 -0.04]\n",
      "State Estimate Before EKF=[ 8.936 -0.24  -0.037]\n",
      "control vector=[4.5, 0]\n",
      "Observation=[9, 0.0, 0.0]\n",
      "State Estimate After EKF=[ 8.93 -0.07 -0.04]\n",
      "State Estimate Before EKF=[13.936 -0.26  -0.037]\n",
      "control vector=[5, 0]\n",
      "Observation=[14, 0.0, 0.0]\n",
      "State Estimate After EKF=[13.93 -0.07 -0.04]\n"
     ]
    }
   ],
   "source": [
    "L = []\n",
    "T = []\n",
    "\n",
    "optimal_state_estimate_k = np.array([0.0,0.0,0.0])\n",
    "covariance_estimate_k = np.array([[0.1,0,0],[0,0.1,0],[0,0,0.1]]) #à modifier\n",
    "\n",
    "L.append(optimal_state_estimate_k)\n",
    "T.append(covariance_estimate_k)\n",
    "\n",
    "optimal_state_estimate_k,covariance_estimate_k = Kalman([4.5,0.0,0.0],[4.5,0],state_estimate_k_minus_1,P_k_minus_1)\n",
    "L.append(optimal_state_estimate_k)\n",
    "T.append(covariance_estimate_k)\n",
    "\n",
    "optimal_state_estimate_k,covariance_estimate_k = Kalman([9,0.0,0.0],[4.5,0],L[-1],T[-1])\n",
    "L.append(optimal_state_estimate_k)\n",
    "T.append(covariance_estimate_k)\n",
    "\n",
    "optimal_state_estimate_k,covariance_estimate_k = Kalman([14,0.0,0.0],[5,0],L[-1],T[-1])\n",
    "L.append(optimal_state_estimate_k)\n",
    "T.append(covariance_estimate_k)\n"
   ]
  },
  {
   "cell_type": "code",
   "execution_count": null,
   "id": "3283b8ab",
   "metadata": {},
   "outputs": [],
   "source": []
  }
 ],
 "metadata": {
  "kernelspec": {
   "display_name": "Python 3 (ipykernel)",
   "language": "python",
   "name": "python3"
  },
  "language_info": {
   "codemirror_mode": {
    "name": "ipython",
    "version": 3
   },
   "file_extension": ".py",
   "mimetype": "text/x-python",
   "name": "python",
   "nbconvert_exporter": "python",
   "pygments_lexer": "ipython3",
   "version": "3.11.4"
  }
 },
 "nbformat": 4,
 "nbformat_minor": 5
}
