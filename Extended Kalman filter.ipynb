{
 "cells": [
  {
   "cell_type": "code",
   "execution_count": 6,
   "id": "e1504589",
   "metadata": {},
   "outputs": [],
   "source": [
    "import numpy as np\n",
    " \n",
    "np.set_printoptions(precision=3,suppress=True)\n",
    "A_k_minus_1 = np.array([[1.0,0,0],[0,1.0,0],[0,0,1.0]])\n",
    " \n",
    "process_noise_v_k_minus_1 = np.array([0.01,0.01,0.003])\n",
    "\n",
    "Q_k = np.array([[1.0,0,0], [0, 1.0,   0],[0,0,1.0]])\n",
    "                 \n",
    "\n",
    "H_k = np.array([[1.0,0,0],[0,1.0,0],[0,0,1.0]])\n",
    "                         \n",
    "\n",
    "R_k = np.array([[1.0,0,0],[0,1.0,0],[0,0,1.0]])  \n",
    "\n",
    "sensor_noise_w_k = np.array([0.07,0.07,0.04])\n",
    " \n",
    "def getB(yaw, deltak):\n",
    "    B = np.array([[np.cos(yaw)*deltak, 0],[np.sin(yaw)*deltak, 0],[0, deltak]])\n",
    "    return B\n",
    " \n",
    "def ekf(z_k_observation_vector, state_estimate_k_minus_1, control_vector_k_minus_1, P_k_minus_1, dk):\n",
    "    state_estimate_k = A_k_minus_1 @ (state_estimate_k_minus_1) + (getB(state_estimate_k_minus_1[2],dk)) @ (control_vector_k_minus_1) + (process_noise_v_k_minus_1)       \n",
    "    print(f'State Estimate Before EKF={state_estimate_k}')\n",
    "    P_k = A_k_minus_1 @ P_k_minus_1 @ A_k_minus_1.T + (\n",
    "            Q_k)\n",
    "    measurement_residual_y_k = z_k_observation_vector - (\n",
    "            (H_k @ state_estimate_k) + (\n",
    "            sensor_noise_w_k))\n",
    "    print(f'Observation={z_k_observation_vector}')          \n",
    "    S_k = H_k @ P_k @ H_k.T + R_k\n",
    "    K_k = P_k @ H_k.T @ np.linalg.pinv(S_k)\n",
    "    state_estimate_k = state_estimate_k + (K_k @ measurement_residual_y_k)    \n",
    "    P_k = P_k - (K_k @ H_k @ P_k)\n",
    "    print(f'State Estimate After EKF={state_estimate_k}')\n",
    "    return state_estimate_k, P_k\n"
   ]
  },
  {
   "cell_type": "code",
   "execution_count": null,
   "id": "aedb0358",
   "metadata": {},
   "outputs": [],
   "source": []
  }
 ],
 "metadata": {
  "kernelspec": {
   "display_name": "Python 3 (ipykernel)",
   "language": "python",
   "name": "python3"
  },
  "language_info": {
   "codemirror_mode": {
    "name": "ipython",
    "version": 3
   },
   "file_extension": ".py",
   "mimetype": "text/x-python",
   "name": "python",
   "nbconvert_exporter": "python",
   "pygments_lexer": "ipython3",
   "version": "3.11.4"
  }
 },
 "nbformat": 4,
 "nbformat_minor": 5
}
